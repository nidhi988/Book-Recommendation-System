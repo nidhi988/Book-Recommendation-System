{
 "cells": [
  {
   "cell_type": "code",
   "execution_count": 1,
   "metadata": {},
   "outputs": [],
   "source": [
    "#Book recmmendation system using k nearest neighbor\n",
    "#dataset from http://www2.informatik.uni-freiburg.de/~cziegler/BX/\n",
    "import pandas as pd\n",
    "import numpy as np\n",
    "import matplotlib.pyplot as plt\n"
   ]
  },
  {
   "cell_type": "code",
   "execution_count": null,
   "metadata": {},
   "outputs": [],
   "source": [
    "books=pd.read_csv(\"E:/project/books/book.csv\")\n",
    "users=pd.read_csv(\"E:/project/books/user.csv\")\n",
    "ratings=pd.read_csv(\"E:/project/books/rating.csv\")"
   ]
  },
  {
   "cell_type": "code",
   "execution_count": null,
   "metadata": {},
   "outputs": [],
   "source": [
    "#users with less than 200 rating and books with less than 100 rating are excluded\n",
    "counts1=ratings[\"userID\"].value_counts()\n",
    "ratings=ratings[ratings[\"userID\"].isin(counts1[counts1>200].index)]\n",
    "counts=ratings[\"bookRating\"].value_counts()\n",
    "ratings=ratings[ratings[\"bookRating\"].isin(counts1[counts>=100].index)]"
   ]
  },
  {
   "cell_type": "code",
   "execution_count": null,
   "metadata": {},
   "outputs": [],
   "source": [
    "#merging ratings and book\n",
    "combine=pd.merge(ratings,book,on='ISBN')\n",
    "columns=['yearofPublication','publisher','bookAuthor','imageUr15','imageUrIM','imageUrlL']\n",
    "combine=combine.drop(columns,axis=1)\n",
    "combine.head()\n"
   ]
  },
  {
   "cell_type": "code",
   "execution_count": null,
   "metadata": {},
   "outputs": [],
   "source": [
    "#adding new column total rating count\n",
    "combine=combine.dropna(axis=0,subset=['bookTitle'])\n",
    "book_ratingCount=(combine_book_rating.groupby(by=['bookTitle'])['bookRating'].count().reset_index().rename(columns={'bookRating':'totalRatingCount'})[['bookTitle','totalRatingCount']])\n",
    "\n",
    "book_RatingCount.head()"
   ]
  },
  {
   "cell_type": "code",
   "execution_count": null,
   "metadata": {},
   "outputs": [],
   "source": [
    "#combining\n",
    "rating_with_totalRatingCount=combine.merge(bookRatingCount,left_one='bookTitle',how='left')\n",
    "rating_with_totalRatingCount.head()"
   ]
  },
  {
   "cell_type": "code",
   "execution_count": null,
   "metadata": {},
   "outputs": [],
   "source": [
    "popularity_threshold=50\n",
    "rating_popular_book=rating_with_totalRatingCount.query('totalRatingCount>=@popularity_threshold')\n",
    "rating_popular_book.head()\n"
   ]
  },
  {
   "cell_type": "code",
   "execution_count": null,
   "metadata": {},
   "outputs": [],
   "source": [
    "#filters to users in us and canada only\n",
    "combined=rating_popular_book.merge(users,left_on='userID',right_on='userID',how='left')\n",
    "us_canada_user_rating=combined[combined['location'].str.contains(\"Usa|Canada\")]\n",
    "us_canada_user_rating=us_canada_user_rating.drop('Age',axis=1)\n",
    "us_canada_user_rating.head()"
   ]
  },
  {
   "cell_type": "code",
   "execution_count": null,
   "metadata": {},
   "outputs": [],
   "source": [
    "from scipy.sparse import csr_matrix\n",
    "us_canada_user_rating=us_canada_user_rating.drop_duplicates(['userID','bookTitle'])\n",
    "us_canada_user_rating_pivot=us_canada_user_rating.pivot(index='bookTitle',columns='userID',values='bookRating').fillna()\n",
    "\n",
    "us_canada_user_rating_matrix=csr_matrix(us_canada_user_rating_pivot.values)\n",
    "from sklearn.neighbors import NearestNeighbors"
   ]
  },
  {
   "cell_type": "code",
   "execution_count": null,
   "metadata": {},
   "outputs": [],
   "source": [
    "model=NearestNeighbors(metric='cosine',algorithm='brute')\n",
    "model.fit(us_canada_user_rating_matrix)"
   ]
  }
 ],
 "metadata": {
  "kernelspec": {
   "display_name": "Python 3",
   "language": "python",
   "name": "python3"
  },
  "language_info": {
   "codemirror_mode": {
    "name": "ipython",
    "version": 3
   },
   "file_extension": ".py",
   "mimetype": "text/x-python",
   "name": "python",
   "nbconvert_exporter": "python",
   "pygments_lexer": "ipython3",
   "version": "3.7.3"
  }
 },
 "nbformat": 4,
 "nbformat_minor": 2
}
